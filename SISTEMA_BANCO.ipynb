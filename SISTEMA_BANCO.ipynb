{
  "nbformat": 4,
  "nbformat_minor": 0,
  "metadata": {
    "colab": {
      "provenance": [],
      "authorship_tag": "ABX9TyOcRh2PaGc0soMfs70o6vpi",
      "include_colab_link": true
    },
    "kernelspec": {
      "name": "python3",
      "display_name": "Python 3"
    },
    "language_info": {
      "name": "python"
    }
  },
  "cells": [
    {
      "cell_type": "markdown",
      "metadata": {
        "id": "view-in-github",
        "colab_type": "text"
      },
      "source": [
        "<a href=\"https://colab.research.google.com/github/EricssenAlecrim/Training-course/blob/main/SISTEMA_BANCO.ipynb\" target=\"_parent\"><img src=\"https://colab.research.google.com/assets/colab-badge.svg\" alt=\"Open In Colab\"/></a>"
      ]
    },
    {
      "cell_type": "code",
      "execution_count": null,
      "metadata": {
        "id": "Q3xprFzAdb-c",
        "colab": {
          "base_uri": "https://localhost:8080/"
        },
        "outputId": "093e61eb-625f-44aa-b018-d16fc95f8afb"
      },
      "outputs": [
        {
          "output_type": "stream",
          "name": "stdout",
          "text": [
            "\n",
            "\n",
            "[d] Depositar\n",
            "[s] Sacar\n",
            "[e] Extrato\n",
            "[q] Sair\n",
            "\n",
            "=> e\n",
            "\n",
            "================ EXTRATO ================\n",
            "Não foram realizadas movimentações.\n",
            "\n",
            "Saldo: R$ 0.00\n",
            "==========================================\n",
            "\n",
            "\n",
            "[d] Depositar\n",
            "[s] Sacar\n",
            "[e] Extrato\n",
            "[q] Sair\n",
            "\n",
            "=> d\n",
            "Informe o valor do depósito: 1\n",
            "\n",
            "\n",
            "[d] Depositar\n",
            "[s] Sacar\n",
            "[e] Extrato\n",
            "[q] Sair\n",
            "\n",
            "=> s\n",
            "Informe o valor do saque: 500\n",
            "Operação falhou! Você não tem saldo suficiente, seu saldo é:R$1.00\n"
          ]
        }
      ],
      "source": [
        "main = \"\"\"\n",
        "\n",
        "[d] Depositar\n",
        "[s] Sacar\n",
        "[e] Extrato\n",
        "[q] Sair\n",
        "\n",
        "=> \"\"\"\n",
        "\n",
        "saldo = 0\n",
        "limite = 500\n",
        "extrato = \"\"\n",
        "numero_saques = 0\n",
        "LIMITE_SAQUES = 3\n",
        "\n",
        "while True:\n",
        "\n",
        "    opcao = input(main)\n",
        "## OPÇÃO DEPÓSITO\n",
        "    if opcao == \"d\":\n",
        "\n",
        "        while True:\n",
        "          valor = float(input(\"Informe o valor do depósito: \"))\n",
        "          if valor > 0:\n",
        "            saldo += valor\n",
        "            extrato += f\"Depósito: R$ {valor:.2f}\\n\"\n",
        "            break\n",
        "\n",
        "          else:\n",
        "            print(\"Operação falhou! O valor informado é inválido.\")\n",
        "            continue\n",
        "\n",
        "## OPÇÃO SAQUE\n",
        "    elif opcao == \"s\":\n",
        "        while True:\n",
        "          valor = float(input(\"Informe o valor do saque: \"))\n",
        "\n",
        "          excedeu_saldo = valor > saldo\n",
        "\n",
        "          excedeu_limite = valor > limite\n",
        "\n",
        "          excedeu_saques = numero_saques >= LIMITE_SAQUES\n",
        "\n",
        "          if excedeu_saldo:\n",
        "              print(f\"Operação falhou! Você não tem saldo suficiente para essa operação, seu saldo é:R${saldo:.2f}\")\n",
        "              continue\n",
        "\n",
        "          elif excedeu_limite:\n",
        "              print(f\"Operação falhou! O valor do saque excede o limite de R$ {limite}\")\n",
        "              continue\n",
        "\n",
        "          elif excedeu_saques:\n",
        "              print(\"Operação falhou! Número máximo de 3 (três) saques diários excedido.\")\n",
        "              continue\n",
        "          elif valor > 0:\n",
        "              saldo -= valor\n",
        "              extrato += f\"Saque: R$ {valor:.2f}\\n\"\n",
        "              numero_saques += 1\n",
        "              break\n",
        "          else:\n",
        "              print(\"Operação falhou! O valor informado é inválido.\")\n",
        "              continue\n",
        "   ## OPÇÃO EXTRATO\n",
        "    elif opcao == \"e\":\n",
        "        print(\"\\n================ EXTRATO ================\")\n",
        "        print(\"Não foram realizadas movimentações.\" if not extrato else extrato)\n",
        "        print(f\"\\nSaldo: R$ {saldo:.2f}\")\n",
        "        print(\"=\"*42)\n",
        "\n",
        "  ## SAIR DO PROGRAMA\n",
        "    elif opcao == \"q\":\n",
        "\n",
        "      print(\"OBRIGADO POR SER NOSSO CLIENTE! VOLTE SEMPRE!\\n\")\n",
        "      break\n",
        "\n",
        "    else:\n",
        "        print(\"Operação inválida, por favor selecione novamente a operação desejada.\")"
      ]
    }
  ]
}